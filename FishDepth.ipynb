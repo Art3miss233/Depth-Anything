{
 "cells": [
  {
   "cell_type": "code",
   "execution_count": 4,
   "metadata": {},
   "outputs": [
    {
     "data": {
      "application/vnd.jupyter.widget-view+json": {
       "model_id": "88cef2cb517340d2a178fdc9890dc0d4",
       "version_major": 2,
       "version_minor": 0
      },
      "text/plain": [
       "config.json:   0%|          | 0.00/116 [00:00<?, ?B/s]"
      ]
     },
     "metadata": {},
     "output_type": "display_data"
    },
    {
     "data": {
      "application/vnd.jupyter.widget-view+json": {
       "model_id": "6b9f08a2b4104805bd64b4896e4d00af",
       "version_major": 2,
       "version_minor": 0
      },
      "text/plain": [
       "pytorch_model.bin:   0%|          | 0.00/1.34G [00:00<?, ?B/s]"
      ]
     },
     "metadata": {},
     "output_type": "display_data"
    },
    {
     "name": "stderr",
     "output_type": "stream",
     "text": [
      "xFormers not available\n",
      "xFormers not available\n"
     ]
    },
    {
     "data": {
      "application/vnd.jupyter.widget-view+json": {
       "model_id": "45510774b35844dea1db8b2d661a43ff",
       "version_major": 2,
       "version_minor": 0
      },
      "text/plain": [
       "Processing video:   0%|          | 0/750 [00:00<?, ?it/s]"
      ]
     },
     "metadata": {},
     "output_type": "display_data"
    },
    {
     "name": "stdout",
     "output_type": "stream",
     "text": [
      "Resources have been released successfully.\n"
     ]
    }
   ],
   "source": [
    "import os\n",
    "import cv2\n",
    "import numpy as np\n",
    "import torch\n",
    "import torch.nn.functional as F\n",
    "from torchvision.transforms import Compose\n",
    "\n",
    "from depth_anything.dpt import DepthAnything\n",
    "from depth_anything.util.transform import Resize, NormalizeImage, PrepareForNet\n",
    "\n",
    "from tqdm.notebook import tqdm\n",
    "\n",
    "\n",
    "def process_video_with_depth_estimation(video_path, outdir, device, margin_width=50, duration_seconds=30):\n",
    "\n",
    "    depth_anything = DepthAnything.from_pretrained('LiheYoung/depth_anything_{}14'.format('vitl')).to(DEVICE).eval()\n",
    "\n",
    "    transform = Compose([\n",
    "        Resize(\n",
    "            width=518,\n",
    "            height=518,\n",
    "            resize_target=False,\n",
    "            keep_aspect_ratio=True,\n",
    "            ensure_multiple_of=14,\n",
    "            resize_method='lower_bound',\n",
    "            image_interpolation_method=cv2.INTER_CUBIC,\n",
    "        ),\n",
    "        NormalizeImage(mean=[0.485, 0.456, 0.406], std=[0.229, 0.224, 0.225]),\n",
    "        PrepareForNet(),\n",
    "    ])\n",
    "\n",
    "    try: \n",
    "        os.makedirs(outdir, exist_ok=True)\n",
    "\n",
    "        video = cv2.VideoCapture(video_path)\n",
    "        frame_width, frame_height = int(video.get(cv2.CAP_PROP_FRAME_WIDTH)), int(video.get(cv2.CAP_PROP_FRAME_HEIGHT))\n",
    "        fps = int(video.get(cv2.CAP_PROP_FPS))\n",
    "        total_frames_to_process = int(fps * duration_seconds)\n",
    "\n",
    "        output_path = os.path.join(outdir, os.path.basename(video_path).replace(\".m4v\", \"_video_depth.mp4\"))\n",
    "        out = cv2.VideoWriter(output_path, cv2.VideoWriter_fourcc(*\"mp4v\"), fps, (frame_width + margin_width, frame_height))\n",
    "\n",
    "\n",
    "        for _ in tqdm(range(total_frames_to_process), desc=\"Processing video\"):\n",
    "            ret, frame = video.read()\n",
    "            if not ret:\n",
    "                break\n",
    "\n",
    "            raw_l_img = frame[:, :int(frame_width / 2)]\n",
    "\n",
    "            l_img = cv2.cvtColor(raw_l_img, cv2.COLOR_BGR2RGB) / 255.0\n",
    "            l_img = transform({'image': l_img})['image']\n",
    "            l_img = torch.from_numpy(l_img).unsqueeze(0).to(device)\n",
    "\n",
    "            with torch.no_grad():\n",
    "                depth = depth_anything(l_img)\n",
    "\n",
    "            depth = F.interpolate(depth.unsqueeze(0), (raw_l_img.shape[0], raw_l_img.shape[1]), mode='bilinear', align_corners=False).squeeze()\n",
    "            depth = (depth - depth.min()) / (depth.max() - depth.min()) * 255.0\n",
    "            depth = depth.cpu().numpy().astype(np.uint8)\n",
    "            depth_color = cv2.applyColorMap(depth, cv2.COLORMAP_INFERNO)\n",
    "\n",
    "            split_region = np.ones((frame_height, margin_width, 3), dtype=np.uint8) * 255\n",
    "            combined_frame = cv2.hconcat([raw_l_img, split_region, depth_color])\n",
    "\n",
    "            out.write(combined_frame)\n",
    "\n",
    "\n",
    "    except KeyboardInterrupt:\n",
    "        print(\"Interrupted by user, cleaning up\")\n",
    "    finally: \n",
    "        video.release()\n",
    "        out.release()\n",
    "        print(\"Resources have been released successfully.\")\n",
    "\n",
    "# Usage\n",
    "DEVICE = 'cuda' if torch.cuda.is_available() else 'cpu'\n",
    "VIDEO_PATH = \"/home/emilia/MasterOfFish/sintef_data/YC1/1.m4v\"\n",
    "OUTDIR = \"/home/emilia/MasterOfFish/sintef_data/YC1/depthAny\"\n",
    "process_video_with_depth_estimation(VIDEO_PATH, OUTDIR, DEVICE, duration_seconds=30)\n"
   ]
  },
  {
   "cell_type": "code",
   "execution_count": null,
   "metadata": {},
   "outputs": [],
   "source": []
  }
 ],
 "metadata": {
  "kernelspec": {
   "display_name": "mlenv",
   "language": "python",
   "name": "python3"
  },
  "language_info": {
   "codemirror_mode": {
    "name": "ipython",
    "version": 3
   },
   "file_extension": ".py",
   "mimetype": "text/x-python",
   "name": "python",
   "nbconvert_exporter": "python",
   "pygments_lexer": "ipython3",
   "version": "3.11.0"
  }
 },
 "nbformat": 4,
 "nbformat_minor": 2
}
